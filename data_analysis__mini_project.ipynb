{
  "nbformat": 4,
  "nbformat_minor": 0,
  "metadata": {
    "colab": {
      "name": "data analysis_ mini project.ipynb",
      "provenance": [],
      "collapsed_sections": []
    },
    "kernelspec": {
      "name": "python3",
      "display_name": "Python 3"
    },
    "language_info": {
      "name": "python"
    }
  },
  "cells": [
    {
      "cell_type": "code",
      "execution_count": null,
      "metadata": {
        "id": "eBki7EYPNYTU"
      },
      "outputs": [],
      "source": [
        "import pandas as pd\n",
        "import numpy as np\n",
        "from scipy import stats\n",
        "import matplotlib.pyplot as plt\n",
        "import scipy.stats as stats"
      ]
    },
    {
      "cell_type": "code",
      "source": [
        "df=pd.read_excel('/content/domestic dataset.xlsx')\n",
        "df.head(10)"
      ],
      "metadata": {
        "colab": {
          "base_uri": "https://localhost:8080/",
          "height": 508
        },
        "id": "pYXRQiXoWQTr",
        "outputId": "1950feaf-9580-4d00-a84a-58b65d6b1fa5"
      },
      "execution_count": null,
      "outputs": [
        {
          "output_type": "execute_result",
          "data": {
            "text/html": [
              "\n",
              "  <div id=\"df-f8c28870-02b6-4def-972c-df89237eac14\">\n",
              "    <div class=\"colab-df-container\">\n",
              "      <div>\n",
              "<style scoped>\n",
              "    .dataframe tbody tr th:only-of-type {\n",
              "        vertical-align: middle;\n",
              "    }\n",
              "\n",
              "    .dataframe tbody tr th {\n",
              "        vertical-align: top;\n",
              "    }\n",
              "\n",
              "    .dataframe thead th {\n",
              "        text-align: right;\n",
              "    }\n",
              "</style>\n",
              "<table border=\"1\" class=\"dataframe\">\n",
              "  <thead>\n",
              "    <tr style=\"text-align: right;\">\n",
              "      <th></th>\n",
              "      <th>RESPONDENTS</th>\n",
              "      <th>Age(yrs)</th>\n",
              "      <th>Working Hours(daily)</th>\n",
              "      <th>Income</th>\n",
              "      <th>Milk</th>\n",
              "      <th>Tea</th>\n",
              "      <th>Bread</th>\n",
              "      <th>chappati / roti/ phulka</th>\n",
              "      <th>Fruits</th>\n",
              "      <th>Poha</th>\n",
              "      <th>...</th>\n",
              "      <th>Masoor</th>\n",
              "      <th>Toor</th>\n",
              "      <th>Rajma</th>\n",
              "      <th>Vatana</th>\n",
              "      <th>Chana daal</th>\n",
              "      <th>Urad</th>\n",
              "      <th>6-7 hours</th>\n",
              "      <th>Less than 6 hours</th>\n",
              "      <th>More than 6 hours</th>\n",
              "      <th>Do you get regular periods</th>\n",
              "    </tr>\n",
              "  </thead>\n",
              "  <tbody>\n",
              "    <tr>\n",
              "      <th>0</th>\n",
              "      <td>1</td>\n",
              "      <td>54</td>\n",
              "      <td>6</td>\n",
              "      <td>6000</td>\n",
              "      <td>0</td>\n",
              "      <td>1</td>\n",
              "      <td>1</td>\n",
              "      <td>1</td>\n",
              "      <td>1</td>\n",
              "      <td>1</td>\n",
              "      <td>...</td>\n",
              "      <td>1</td>\n",
              "      <td>1</td>\n",
              "      <td>1</td>\n",
              "      <td>1</td>\n",
              "      <td>1</td>\n",
              "      <td>1</td>\n",
              "      <td>0</td>\n",
              "      <td>0</td>\n",
              "      <td>1</td>\n",
              "      <td>0</td>\n",
              "    </tr>\n",
              "    <tr>\n",
              "      <th>1</th>\n",
              "      <td>2</td>\n",
              "      <td>25</td>\n",
              "      <td>3</td>\n",
              "      <td>10000</td>\n",
              "      <td>0</td>\n",
              "      <td>0</td>\n",
              "      <td>0</td>\n",
              "      <td>0</td>\n",
              "      <td>0</td>\n",
              "      <td>0</td>\n",
              "      <td>...</td>\n",
              "      <td>1</td>\n",
              "      <td>1</td>\n",
              "      <td>1</td>\n",
              "      <td>1</td>\n",
              "      <td>1</td>\n",
              "      <td>1</td>\n",
              "      <td>0</td>\n",
              "      <td>0</td>\n",
              "      <td>1</td>\n",
              "      <td>1</td>\n",
              "    </tr>\n",
              "    <tr>\n",
              "      <th>2</th>\n",
              "      <td>3</td>\n",
              "      <td>35</td>\n",
              "      <td>5</td>\n",
              "      <td>12000</td>\n",
              "      <td>0</td>\n",
              "      <td>1</td>\n",
              "      <td>0</td>\n",
              "      <td>0</td>\n",
              "      <td>0</td>\n",
              "      <td>0</td>\n",
              "      <td>...</td>\n",
              "      <td>1</td>\n",
              "      <td>1</td>\n",
              "      <td>1</td>\n",
              "      <td>1</td>\n",
              "      <td>1</td>\n",
              "      <td>1</td>\n",
              "      <td>0</td>\n",
              "      <td>0</td>\n",
              "      <td>1</td>\n",
              "      <td>1</td>\n",
              "    </tr>\n",
              "    <tr>\n",
              "      <th>3</th>\n",
              "      <td>4</td>\n",
              "      <td>29</td>\n",
              "      <td>4</td>\n",
              "      <td>6000</td>\n",
              "      <td>0</td>\n",
              "      <td>1</td>\n",
              "      <td>1</td>\n",
              "      <td>0</td>\n",
              "      <td>1</td>\n",
              "      <td>1</td>\n",
              "      <td>...</td>\n",
              "      <td>1</td>\n",
              "      <td>1</td>\n",
              "      <td>1</td>\n",
              "      <td>1</td>\n",
              "      <td>1</td>\n",
              "      <td>1</td>\n",
              "      <td>1</td>\n",
              "      <td>0</td>\n",
              "      <td>0</td>\n",
              "      <td>1</td>\n",
              "    </tr>\n",
              "    <tr>\n",
              "      <th>4</th>\n",
              "      <td>5</td>\n",
              "      <td>34</td>\n",
              "      <td>1</td>\n",
              "      <td>4000</td>\n",
              "      <td>0</td>\n",
              "      <td>1</td>\n",
              "      <td>0</td>\n",
              "      <td>0</td>\n",
              "      <td>0</td>\n",
              "      <td>0</td>\n",
              "      <td>...</td>\n",
              "      <td>0</td>\n",
              "      <td>1</td>\n",
              "      <td>0</td>\n",
              "      <td>0</td>\n",
              "      <td>0</td>\n",
              "      <td>0</td>\n",
              "      <td>0</td>\n",
              "      <td>0</td>\n",
              "      <td>1</td>\n",
              "      <td>1</td>\n",
              "    </tr>\n",
              "    <tr>\n",
              "      <th>5</th>\n",
              "      <td>6</td>\n",
              "      <td>18</td>\n",
              "      <td>5</td>\n",
              "      <td>4000</td>\n",
              "      <td>0</td>\n",
              "      <td>0</td>\n",
              "      <td>0</td>\n",
              "      <td>0</td>\n",
              "      <td>0</td>\n",
              "      <td>0</td>\n",
              "      <td>...</td>\n",
              "      <td>1</td>\n",
              "      <td>1</td>\n",
              "      <td>1</td>\n",
              "      <td>1</td>\n",
              "      <td>1</td>\n",
              "      <td>1</td>\n",
              "      <td>0</td>\n",
              "      <td>0</td>\n",
              "      <td>1</td>\n",
              "      <td>1</td>\n",
              "    </tr>\n",
              "    <tr>\n",
              "      <th>6</th>\n",
              "      <td>7</td>\n",
              "      <td>19</td>\n",
              "      <td>3</td>\n",
              "      <td>9000</td>\n",
              "      <td>0</td>\n",
              "      <td>1</td>\n",
              "      <td>0</td>\n",
              "      <td>0</td>\n",
              "      <td>0</td>\n",
              "      <td>0</td>\n",
              "      <td>...</td>\n",
              "      <td>1</td>\n",
              "      <td>1</td>\n",
              "      <td>1</td>\n",
              "      <td>1</td>\n",
              "      <td>1</td>\n",
              "      <td>1</td>\n",
              "      <td>0</td>\n",
              "      <td>0</td>\n",
              "      <td>1</td>\n",
              "      <td>1</td>\n",
              "    </tr>\n",
              "    <tr>\n",
              "      <th>7</th>\n",
              "      <td>8</td>\n",
              "      <td>21</td>\n",
              "      <td>3</td>\n",
              "      <td>3500</td>\n",
              "      <td>0</td>\n",
              "      <td>1</td>\n",
              "      <td>0</td>\n",
              "      <td>0</td>\n",
              "      <td>0</td>\n",
              "      <td>0</td>\n",
              "      <td>...</td>\n",
              "      <td>1</td>\n",
              "      <td>1</td>\n",
              "      <td>1</td>\n",
              "      <td>1</td>\n",
              "      <td>1</td>\n",
              "      <td>1</td>\n",
              "      <td>0</td>\n",
              "      <td>0</td>\n",
              "      <td>1</td>\n",
              "      <td>1</td>\n",
              "    </tr>\n",
              "    <tr>\n",
              "      <th>8</th>\n",
              "      <td>9</td>\n",
              "      <td>21</td>\n",
              "      <td>2</td>\n",
              "      <td>3500</td>\n",
              "      <td>0</td>\n",
              "      <td>1</td>\n",
              "      <td>0</td>\n",
              "      <td>0</td>\n",
              "      <td>0</td>\n",
              "      <td>0</td>\n",
              "      <td>...</td>\n",
              "      <td>1</td>\n",
              "      <td>1</td>\n",
              "      <td>1</td>\n",
              "      <td>1</td>\n",
              "      <td>1</td>\n",
              "      <td>1</td>\n",
              "      <td>0</td>\n",
              "      <td>0</td>\n",
              "      <td>1</td>\n",
              "      <td>1</td>\n",
              "    </tr>\n",
              "    <tr>\n",
              "      <th>9</th>\n",
              "      <td>10</td>\n",
              "      <td>15</td>\n",
              "      <td>3</td>\n",
              "      <td>4000</td>\n",
              "      <td>0</td>\n",
              "      <td>1</td>\n",
              "      <td>0</td>\n",
              "      <td>0</td>\n",
              "      <td>0</td>\n",
              "      <td>0</td>\n",
              "      <td>...</td>\n",
              "      <td>1</td>\n",
              "      <td>1</td>\n",
              "      <td>1</td>\n",
              "      <td>1</td>\n",
              "      <td>1</td>\n",
              "      <td>1</td>\n",
              "      <td>0</td>\n",
              "      <td>0</td>\n",
              "      <td>1</td>\n",
              "      <td>1</td>\n",
              "    </tr>\n",
              "  </tbody>\n",
              "</table>\n",
              "<p>10 rows × 48 columns</p>\n",
              "</div>\n",
              "      <button class=\"colab-df-convert\" onclick=\"convertToInteractive('df-f8c28870-02b6-4def-972c-df89237eac14')\"\n",
              "              title=\"Convert this dataframe to an interactive table.\"\n",
              "              style=\"display:none;\">\n",
              "        \n",
              "  <svg xmlns=\"http://www.w3.org/2000/svg\" height=\"24px\"viewBox=\"0 0 24 24\"\n",
              "       width=\"24px\">\n",
              "    <path d=\"M0 0h24v24H0V0z\" fill=\"none\"/>\n",
              "    <path d=\"M18.56 5.44l.94 2.06.94-2.06 2.06-.94-2.06-.94-.94-2.06-.94 2.06-2.06.94zm-11 1L8.5 8.5l.94-2.06 2.06-.94-2.06-.94L8.5 2.5l-.94 2.06-2.06.94zm10 10l.94 2.06.94-2.06 2.06-.94-2.06-.94-.94-2.06-.94 2.06-2.06.94z\"/><path d=\"M17.41 7.96l-1.37-1.37c-.4-.4-.92-.59-1.43-.59-.52 0-1.04.2-1.43.59L10.3 9.45l-7.72 7.72c-.78.78-.78 2.05 0 2.83L4 21.41c.39.39.9.59 1.41.59.51 0 1.02-.2 1.41-.59l7.78-7.78 2.81-2.81c.8-.78.8-2.07 0-2.86zM5.41 20L4 18.59l7.72-7.72 1.47 1.35L5.41 20z\"/>\n",
              "  </svg>\n",
              "      </button>\n",
              "      \n",
              "  <style>\n",
              "    .colab-df-container {\n",
              "      display:flex;\n",
              "      flex-wrap:wrap;\n",
              "      gap: 12px;\n",
              "    }\n",
              "\n",
              "    .colab-df-convert {\n",
              "      background-color: #E8F0FE;\n",
              "      border: none;\n",
              "      border-radius: 50%;\n",
              "      cursor: pointer;\n",
              "      display: none;\n",
              "      fill: #1967D2;\n",
              "      height: 32px;\n",
              "      padding: 0 0 0 0;\n",
              "      width: 32px;\n",
              "    }\n",
              "\n",
              "    .colab-df-convert:hover {\n",
              "      background-color: #E2EBFA;\n",
              "      box-shadow: 0px 1px 2px rgba(60, 64, 67, 0.3), 0px 1px 3px 1px rgba(60, 64, 67, 0.15);\n",
              "      fill: #174EA6;\n",
              "    }\n",
              "\n",
              "    [theme=dark] .colab-df-convert {\n",
              "      background-color: #3B4455;\n",
              "      fill: #D2E3FC;\n",
              "    }\n",
              "\n",
              "    [theme=dark] .colab-df-convert:hover {\n",
              "      background-color: #434B5C;\n",
              "      box-shadow: 0px 1px 3px 1px rgba(0, 0, 0, 0.15);\n",
              "      filter: drop-shadow(0px 1px 2px rgba(0, 0, 0, 0.3));\n",
              "      fill: #FFFFFF;\n",
              "    }\n",
              "  </style>\n",
              "\n",
              "      <script>\n",
              "        const buttonEl =\n",
              "          document.querySelector('#df-f8c28870-02b6-4def-972c-df89237eac14 button.colab-df-convert');\n",
              "        buttonEl.style.display =\n",
              "          google.colab.kernel.accessAllowed ? 'block' : 'none';\n",
              "\n",
              "        async function convertToInteractive(key) {\n",
              "          const element = document.querySelector('#df-f8c28870-02b6-4def-972c-df89237eac14');\n",
              "          const dataTable =\n",
              "            await google.colab.kernel.invokeFunction('convertToInteractive',\n",
              "                                                     [key], {});\n",
              "          if (!dataTable) return;\n",
              "\n",
              "          const docLinkHtml = 'Like what you see? Visit the ' +\n",
              "            '<a target=\"_blank\" href=https://colab.research.google.com/notebooks/data_table.ipynb>data table notebook</a>'\n",
              "            + ' to learn more about interactive tables.';\n",
              "          element.innerHTML = '';\n",
              "          dataTable['output_type'] = 'display_data';\n",
              "          await google.colab.output.renderOutput(dataTable, element);\n",
              "          const docLink = document.createElement('div');\n",
              "          docLink.innerHTML = docLinkHtml;\n",
              "          element.appendChild(docLink);\n",
              "        }\n",
              "      </script>\n",
              "    </div>\n",
              "  </div>\n",
              "  "
            ],
            "text/plain": [
              "   RESPONDENTS  Age(yrs)  Working Hours(daily)  Income  Milk  Tea    Bread   \\\n",
              "0            1        54                     6    6000     0      1       1   \n",
              "1            2        25                     3   10000     0      0       0   \n",
              "2            3        35                     5   12000     0      1       0   \n",
              "3            4        29                     4    6000     0      1       1   \n",
              "4            5        34                     1    4000     0      1       0   \n",
              "5            6        18                     5    4000     0      0       0   \n",
              "6            7        19                     3    9000     0      1       0   \n",
              "7            8        21                     3    3500     0      1       0   \n",
              "8            9        21                     2    3500     0      1       0   \n",
              "9           10        15                     3    4000     0      1       0   \n",
              "\n",
              "   chappati / roti/ phulka      Fruits  Poha   ...  Masoor   Toor  Rajma   \\\n",
              "0                            1       1      1  ...        1     1       1   \n",
              "1                            0       0      0  ...        1     1       1   \n",
              "2                            0       0      0  ...        1     1       1   \n",
              "3                            0       1      1  ...        1     1       1   \n",
              "4                            0       0      0  ...        0     1       0   \n",
              "5                            0       0      0  ...        1     1       1   \n",
              "6                            0       0      0  ...        1     1       1   \n",
              "7                            0       0      0  ...        1     1       1   \n",
              "8                            0       0      0  ...        1     1       1   \n",
              "9                            0       0      0  ...        1     1       1   \n",
              "\n",
              "   Vatana  Chana daal   Urad  6-7 hours  Less than 6 hours  More than 6 hours  \\\n",
              "0       1            1     1          0                  0                  1   \n",
              "1       1            1     1          0                  0                  1   \n",
              "2       1            1     1          0                  0                  1   \n",
              "3       1            1     1          1                  0                  0   \n",
              "4       0            0     0          0                  0                  1   \n",
              "5       1            1     1          0                  0                  1   \n",
              "6       1            1     1          0                  0                  1   \n",
              "7       1            1     1          0                  0                  1   \n",
              "8       1            1     1          0                  0                  1   \n",
              "9       1            1     1          0                  0                  1   \n",
              "\n",
              "    Do you get regular periods  \n",
              "0                            0  \n",
              "1                            1  \n",
              "2                            1  \n",
              "3                            1  \n",
              "4                            1  \n",
              "5                            1  \n",
              "6                            1  \n",
              "7                            1  \n",
              "8                            1  \n",
              "9                            1  \n",
              "\n",
              "[10 rows x 48 columns]"
            ]
          },
          "metadata": {},
          "execution_count": 12
        }
      ]
    },
    {
      "cell_type": "markdown",
      "source": [
        "evaluation"
      ],
      "metadata": {
        "id": "F5AmIrrhWpUf"
      }
    },
    {
      "cell_type": "code",
      "source": [
        "print(df.info())\n",
        "print(df.describe())"
      ],
      "metadata": {
        "colab": {
          "base_uri": "https://localhost:8080/"
        },
        "id": "kMcQYprRWQWX",
        "outputId": "82988c35-ee55-4df7-d3aa-5a237b2b0269"
      },
      "execution_count": null,
      "outputs": [
        {
          "output_type": "stream",
          "name": "stdout",
          "text": [
            "<class 'pandas.core.frame.DataFrame'>\n",
            "RangeIndex: 10 entries, 0 to 9\n",
            "Data columns (total 48 columns):\n",
            " #   Column                       Non-Null Count  Dtype\n",
            "---  ------                       --------------  -----\n",
            " 0   RESPONDENTS                  10 non-null     int64\n",
            " 1   Age(yrs)                     10 non-null     int64\n",
            " 2   Working Hours(daily)         10 non-null     int64\n",
            " 3   Income                       10 non-null     int64\n",
            " 4   Milk                         10 non-null     int64\n",
            " 5   Tea                          10 non-null     int64\n",
            " 6   Bread                        10 non-null     int64\n",
            " 7   chappati / roti/ phulka      10 non-null     int64\n",
            " 8   Fruits                       10 non-null     int64\n",
            " 9   Poha                         10 non-null     int64\n",
            " 10  Upma                         10 non-null     int64\n",
            " 11  Egg/egg omlet                10 non-null     int64\n",
            " 12  Salad                        10 non-null     int64\n",
            " 13  Dal                          10 non-null     int64\n",
            " 14  Rice                         10 non-null     int64\n",
            " 15  Curd                         10 non-null     int64\n",
            " 16  Sukhi sabhji                 10 non-null     int64\n",
            " 17  Gravy sabji                  10 non-null     int64\n",
            " 18  Papad                        10 non-null     int64\n",
            " 19  meat                         10 non-null     int64\n",
            " 20  Fish                         10 non-null     int64\n",
            " 21  Mutton                       10 non-null     int64\n",
            " 22  chicken                      10 non-null     int64\n",
            " 23  Apple                        10 non-null     int64\n",
            " 24  Banana                       10 non-null     int64\n",
            " 25   Pineapple                   10 non-null     int64\n",
            " 26  Papaya                       10 non-null     int64\n",
            " 27  Chickoo                      10 non-null     int64\n",
            " 28  Grapes                       10 non-null     int64\n",
            " 29  Orange                       10 non-null     int64\n",
            " 30  Coconut                      10 non-null     int64\n",
            " 31  Sweetlime                    10 non-null     int64\n",
            " 32  Pomegranate                  10 non-null     int64\n",
            " 33  Watermelon                   10 non-null     int64\n",
            " 34  Muskmelon                    10 non-null     int64\n",
            " 35  Mung                         10 non-null     int64\n",
            " 36  Matki                        10 non-null     int64\n",
            " 37  Chawli                       10 non-null     int64\n",
            " 38  Masoor                       10 non-null     int64\n",
            " 39  Toor                         10 non-null     int64\n",
            " 40  Rajma                        10 non-null     int64\n",
            " 41  Vatana                       10 non-null     int64\n",
            " 42  Chana daal                   10 non-null     int64\n",
            " 43  Urad                         10 non-null     int64\n",
            " 44  6-7 hours                    10 non-null     int64\n",
            " 45  Less than 6 hours            10 non-null     int64\n",
            " 46  More than 6 hours            10 non-null     int64\n",
            " 47   Do you get regular periods  10 non-null     int64\n",
            "dtypes: int64(48)\n",
            "memory usage: 3.9 KB\n",
            "None\n",
            "       RESPONDENTS   Age(yrs)  Working Hours(daily)        Income  Milk  \\\n",
            "count     10.00000  10.000000             10.000000     10.000000  10.0   \n",
            "mean       5.50000  27.100000              3.500000   6200.000000   0.0   \n",
            "std        3.02765  11.599329              1.509231   3074.988708   0.0   \n",
            "min        1.00000  15.000000              1.000000   3500.000000   0.0   \n",
            "25%        3.25000  19.500000              3.000000   4000.000000   0.0   \n",
            "50%        5.50000  23.000000              3.000000   5000.000000   0.0   \n",
            "75%        7.75000  32.750000              4.750000   8250.000000   0.0   \n",
            "max       10.00000  54.000000              6.000000  12000.000000   0.0   \n",
            "\n",
            "           Tea       Bread   chappati / roti/ phulka         Fruits  \\\n",
            "count  10.000000  10.000000                    10.000000  10.000000   \n",
            "mean    0.800000   0.200000                     0.100000   0.200000   \n",
            "std     0.421637   0.421637                     0.316228   0.421637   \n",
            "min     0.000000   0.000000                     0.000000   0.000000   \n",
            "25%     1.000000   0.000000                     0.000000   0.000000   \n",
            "50%     1.000000   0.000000                     0.000000   0.000000   \n",
            "75%     1.000000   0.000000                     0.000000   0.000000   \n",
            "max     1.000000   1.000000                     1.000000   1.000000   \n",
            "\n",
            "           Poha   ...    Masoor   Toor     Rajma      Vatana  Chana daal   \\\n",
            "count  10.000000  ...  10.000000  10.0  10.000000  10.000000    10.000000   \n",
            "mean    0.200000  ...   0.900000   1.0   0.900000   0.900000     0.900000   \n",
            "std     0.421637  ...   0.316228   0.0   0.316228   0.316228     0.316228   \n",
            "min     0.000000  ...   0.000000   1.0   0.000000   0.000000     0.000000   \n",
            "25%     0.000000  ...   1.000000   1.0   1.000000   1.000000     1.000000   \n",
            "50%     0.000000  ...   1.000000   1.0   1.000000   1.000000     1.000000   \n",
            "75%     0.000000  ...   1.000000   1.0   1.000000   1.000000     1.000000   \n",
            "max     1.000000  ...   1.000000   1.0   1.000000   1.000000     1.000000   \n",
            "\n",
            "            Urad  6-7 hours  Less than 6 hours  More than 6 hours  \\\n",
            "count  10.000000  10.000000               10.0          10.000000   \n",
            "mean    0.900000   0.100000                0.0           0.900000   \n",
            "std     0.316228   0.316228                0.0           0.316228   \n",
            "min     0.000000   0.000000                0.0           0.000000   \n",
            "25%     1.000000   0.000000                0.0           1.000000   \n",
            "50%     1.000000   0.000000                0.0           1.000000   \n",
            "75%     1.000000   0.000000                0.0           1.000000   \n",
            "max     1.000000   1.000000                0.0           1.000000   \n",
            "\n",
            "        Do you get regular periods  \n",
            "count                    10.000000  \n",
            "mean                      0.900000  \n",
            "std                       0.316228  \n",
            "min                       0.000000  \n",
            "25%                       1.000000  \n",
            "50%                       1.000000  \n",
            "75%                       1.000000  \n",
            "max                       1.000000  \n",
            "\n",
            "[8 rows x 48 columns]\n"
          ]
        }
      ]
    },
    {
      "cell_type": "markdown",
      "source": [
        "mean"
      ],
      "metadata": {
        "id": "FsASWcNTXi8V"
      }
    },
    {
      "cell_type": "code",
      "source": [
        "mean1=df['Income']\n",
        "mean=np.mean(mean1)"
      ],
      "metadata": {
        "id": "HYgYrO4gWQZp"
      },
      "execution_count": null,
      "outputs": []
    },
    {
      "cell_type": "code",
      "source": [
        "x=df['Income']\n",
        "x=np.sort(x)\n",
        "median=np.median(x)\n",
        "print(\"median:\",median)"
      ],
      "metadata": {
        "colab": {
          "base_uri": "https://localhost:8080/"
        },
        "id": "oaXa5bIyWQcm",
        "outputId": "7803ccb9-b6be-4f80-8d4a-3723fb41a3fc"
      },
      "execution_count": null,
      "outputs": [
        {
          "output_type": "stream",
          "name": "stdout",
          "text": [
            "median: 5000.0\n"
          ]
        }
      ]
    },
    {
      "cell_type": "code",
      "source": [
        "print(\"mode:\",stats.mode(x))"
      ],
      "metadata": {
        "colab": {
          "base_uri": "https://localhost:8080/"
        },
        "id": "BZ3yQ5aWZRtF",
        "outputId": "8e184d24-8ee9-451f-9362-5587255ca2b6"
      },
      "execution_count": null,
      "outputs": [
        {
          "output_type": "stream",
          "name": "stdout",
          "text": [
            "mode: ModeResult(mode=array([4000]), count=array([3]))\n"
          ]
        }
      ]
    },
    {
      "cell_type": "markdown",
      "source": [
        "Visualization"
      ],
      "metadata": {
        "id": "90yxWaq_ZOs6"
      }
    },
    {
      "cell_type": "code",
      "source": [
        "df['Income'].hist()"
      ],
      "metadata": {
        "colab": {
          "base_uri": "https://localhost:8080/",
          "height": 284
        },
        "id": "FkYViQqSZeOf",
        "outputId": "db015b5d-7e10-492f-a9c0-812c4a2ed244"
      },
      "execution_count": null,
      "outputs": [
        {
          "output_type": "execute_result",
          "data": {
            "text/plain": [
              "<matplotlib.axes._subplots.AxesSubplot at 0x7f0b5df50210>"
            ]
          },
          "metadata": {},
          "execution_count": 18
        },
        {
          "output_type": "display_data",
          "data": {
            "image/png": "[encoded data removed]",
            "text/plain": [
              "<Figure size 432x288 with 1 Axes>"
            ]
          },
          "metadata": {
            "needs_background": "light"
          }
        }
      ]
    },
    {
      "cell_type": "markdown",
      "source": [
        ""
      ],
      "metadata": {
        "id": "5EvHpLmMZyI7"
      }
    },
    {
      "cell_type": "code",
      "source": [
        "#convert pandas DataFrame object to numpy array and sort\n",
        "h = np.asarray(df['Income'])\n",
        "h = sorted(h)\n",
        " \n",
        "#use the scipy stats module to fit a normal distirbution with same mean and standard deviation\n",
        "fit = stats.norm.pdf(h, np.mean(h), np.std(h)) \n",
        " \n",
        "#plot both series on the histogram\n",
        "plt.plot(h,fit,'-',linewidth = 2,label=\"Normal distribution with same mean and var\")\n",
        "plt.hist(h,density=True,bins = 100,label=\"Actual distribution\")      \n",
        "plt.legend()\n",
        "plt.show() "
      ],
      "metadata": {
        "colab": {
          "base_uri": "https://localhost:8080/",
          "height": 265
        },
        "id": "qIQFseahZ0pb",
        "outputId": "73bb25be-f914-41a5-a1d7-f48712625a4a"
      },
      "execution_count": null,
      "outputs": [
        {
          "output_type": "display_data",
          "data": {
            "image/png": "[encoded data removed]",
            "text/plain": [
              "<Figure size 432x288 with 1 Axes>"
            ]
          },
          "metadata": {
            "needs_background": "light"
          }
        }
      ]
    },
    {
      "cell_type": "code",
      "source": [
        "#plot mean\n",
        "plt.plot(h,fit,'-',linewidth = 2,label=\"Normal distribution with same mean and var\")\n",
        "plt.hist(h,density=False,bins = 100,label=\"Actual distribution\") \n",
        "plt.axvline(mean)\n",
        "plt.legend()\n",
        "plt.show() "
      ],
      "metadata": {
        "colab": {
          "base_uri": "https://localhost:8080/",
          "height": 265
        },
        "id": "qbLdXrrMZ0s0",
        "outputId": "0178e140-a313-4c0d-9b94-62a54f791a68"
      },
      "execution_count": null,
      "outputs": [
        {
          "output_type": "display_data",
          "data": {
            "image/png": "[encoded data removed]",
            "text/plain": [
              "<Figure size 432x288 with 1 Axes>"
            ]
          },
          "metadata": {
            "needs_background": "light"
          }
        }
      ]
    },
    {
      "cell_type": "code",
      "source": [
        "#plot median\n",
        "plt.plot(h,fit,'-',linewidth = 2,label=\"Normal distribution with same mean and var\")\n",
        "plt.hist(h,density=False,bins = 100,label=\"Actual distribution\") \n",
        "plt.axvline(median)\n",
        "plt.legend()\n",
        "plt.show() "
      ],
      "metadata": {
        "colab": {
          "base_uri": "https://localhost:8080/",
          "height": 265
        },
        "id": "hgDv2ZSXZ0wP",
        "outputId": "d13a8582-d938-4ef6-9018-fc97e467f3d8"
      },
      "execution_count": null,
      "outputs": [
        {
          "output_type": "display_data",
          "data": {
            "image/png": "[encoded data removed]",
            "text/plain": [
              "<Figure size 432x288 with 1 Axes>"
            ]
          },
          "metadata": {
            "needs_background": "light"
          }
        }
      ]
    },
    {
      "cell_type": "code",
      "source": [
        "#plot mode\n",
        "plt.plot(h,fit,'-',linewidth = 2,label=\"Normal distribution with same mean and var\")\n",
        "plt.hist(h,density=False,bins = 100,label=\"Actual distribution\") \n",
        "mode=stats.mode(x)\n",
        "plt.axvline(mode[0])\n",
        "plt.legend()\n",
        "plt.show() "
      ],
      "metadata": {
        "colab": {
          "base_uri": "https://localhost:8080/",
          "height": 265
        },
        "id": "bxUIkRoVZ0zg",
        "outputId": "86ad1603-04a5-4373-c7a9-06c44955d4b3"
      },
      "execution_count": null,
      "outputs": [
        {
          "output_type": "display_data",
          "data": {
            "image/png": "[encoded data removed]",
            "text/plain": [
              "<Figure size 432x288 with 1 Axes>"
            ]
          },
          "metadata": {
            "needs_background": "light"
          }
        }
      ]
    },
    {
      "cell_type": "markdown",
      "source": [
        ""
      ],
      "metadata": {
        "id": "yjNjxAw0ci4m"
      }
    },
    {
      "cell_type": "code",
      "source": [
        "#range\n",
        "print(np.ptp(x))"
      ],
      "metadata": {
        "colab": {
          "base_uri": "https://localhost:8080/"
        },
        "id": "FzHzv9sfciQA",
        "outputId": "1f8849d0-dabb-4c27-eee7-5ca6ae66bf29"
      },
      "execution_count": null,
      "outputs": [
        {
          "output_type": "stream",
          "name": "stdout",
          "text": [
            "8500\n"
          ]
        }
      ]
    },
    {
      "cell_type": "code",
      "source": [
        "#variance\n",
        "from scipy.stats import variation  \n",
        "k=np.var(x)  # coefficient of variation\n",
        "k"
      ],
      "metadata": {
        "colab": {
          "base_uri": "https://localhost:8080/"
        },
        "id": "VAbeiBpOZ023",
        "outputId": "c5d0432c-0d8d-4086-8fa9-f57b5bdbe53c"
      },
      "execution_count": null,
      "outputs": [
        {
          "output_type": "execute_result",
          "data": {
            "text/plain": [
              "8510000.0"
            ]
          },
          "metadata": {},
          "execution_count": 24
        }
      ]
    },
    {
      "cell_type": "code",
      "source": [
        "#standard deviation\n",
        "import statistics\n",
        "print(statistics.pstdev(x)) #POPULATION SD\n",
        "print(statistics.stdev(x)) #sample sd"
      ],
      "metadata": {
        "colab": {
          "base_uri": "https://localhost:8080/"
        },
        "id": "xyySQmelZ05-",
        "outputId": "8e3c5e2f-75fe-43fb-dcac-1d07a257ebdf"
      },
      "execution_count": null,
      "outputs": [
        {
          "output_type": "stream",
          "name": "stdout",
          "text": [
            "2917.1904291629644\n",
            "3074.988617865113\n"
          ]
        }
      ]
    },
    {
      "cell_type": "code",
      "source": [
        "#skewness\n",
        "from scipy.stats import skew\n",
        "skew(x)"
      ],
      "metadata": {
        "colab": {
          "base_uri": "https://localhost:8080/"
        },
        "id": "2JDrmWOMcqpc",
        "outputId": "88cfcd47-9521-4663-fee9-f2cf375b64b3"
      },
      "execution_count": null,
      "outputs": [
        {
          "output_type": "execute_result",
          "data": {
            "text/plain": [
              "0.8080872188720842"
            ]
          },
          "metadata": {},
          "execution_count": 26
        }
      ]
    },
    {
      "cell_type": "code",
      "source": [
        "#kutosis\n",
        "from scipy.stats import kurtosis \n",
        "kurtosis(x)"
      ],
      "metadata": {
        "colab": {
          "base_uri": "https://localhost:8080/"
        },
        "id": "KEl12uZIcqsa",
        "outputId": "7ebb17f7-312d-4463-b67b-7cba82bae706"
      },
      "execution_count": null,
      "outputs": [
        {
          "output_type": "execute_result",
          "data": {
            "text/plain": [
              "-0.8207748953674465"
            ]
          },
          "metadata": {},
          "execution_count": 27
        }
      ]
    },
    {
      "cell_type": "markdown",
      "source": [
        "quartiles"
      ],
      "metadata": {
        "id": "f8ruBJQYc7Sb"
      }
    },
    {
      "cell_type": "code",
      "source": [
        "q1=np.percentile(x,25)\n",
        "print(\"q1:\",q1)\n",
        "q2=np.percentile(x,50)\n",
        "print(\"q2:\",q2)\n",
        "q3=np.percentile(x,75)\n",
        "print(\"q3:\",q3)\n",
        "iqr=q3-q1\n",
        "print(\"iqr:\",iqr)"
      ],
      "metadata": {
        "colab": {
          "base_uri": "https://localhost:8080/"
        },
        "id": "SjZPxjdhc6nP",
        "outputId": "865d18fd-1662-4e8d-8373-c0e412ae10ea"
      },
      "execution_count": null,
      "outputs": [
        {
          "output_type": "stream",
          "name": "stdout",
          "text": [
            "q1: 4000.0\n",
            "q2: 5000.0\n",
            "q3: 8250.0\n",
            "iqr: 4250.0\n"
          ]
        }
      ]
    },
    {
      "cell_type": "markdown",
      "source": [
        "box plot visualisation"
      ],
      "metadata": {
        "id": "F72_NNWkdD2g"
      }
    },
    {
      "cell_type": "code",
      "source": [
        "plt.boxplot(x)\n",
        "plt.show()"
      ],
      "metadata": {
        "colab": {
          "base_uri": "https://localhost:8080/",
          "height": 265
        },
        "id": "hxePvZ3rcqvX",
        "outputId": "270f6e7d-a47f-4097-f43c-3cff03eb62ac"
      },
      "execution_count": null,
      "outputs": [
        {
          "output_type": "display_data",
          "data": {
            "image/png": "[encoded data removed]",
            "text/plain": [
              "<Figure size 432x288 with 1 Axes>"
            ]
          },
          "metadata": {
            "needs_background": "light"
          }
        }
      ]
    }
  ]
}